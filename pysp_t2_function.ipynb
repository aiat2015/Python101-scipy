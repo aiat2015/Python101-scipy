{
  "nbformat": 4,
  "nbformat_minor": 0,
  "metadata": {
    "colab": {
      "name": "pysp_t2-function.ipynb",
      "version": "0.3.2",
      "provenance": [],
      "include_colab_link": true
    },
    "kernelspec": {
      "name": "python3",
      "display_name": "Python 3"
    }
  },
  "cells": [
    {
      "cell_type": "markdown",
      "metadata": {
        "id": "view-in-github",
        "colab_type": "text"
      },
      "source": [
        "[View in Colaboratory](https://colab.research.google.com/github/tchayintr/Python101-scipy/blob/master/pysp_t2_function.ipynb)"
      ]
    },
    {
      "metadata": {
        "id": "E27s793oYvcc",
        "colab_type": "text"
      },
      "cell_type": "markdown",
      "source": [
        "# **Python101 x Scipy: Tutorial 2 - Function**\n",
        "***Tutorial 2 (T2)***\n",
        "\n",
        "def ชื่อฟังก์ชั่น(ตัวแปรที่1,ตัวแปรที่2, ...): # อาจจะไม่ตัวแปรก็ได้\n",
        "\n"
      ]
    },
    {
      "metadata": {
        "id": "fIi8G60hKpum",
        "colab_type": "code",
        "colab": {}
      },
      "cell_type": "code",
      "source": [
        "# ตัวอย่างการประกาศฟังก์ชั่น\n",
        "# เริ่มฟังก์ชั่น\n",
        "def ชื่อฟังก์ชั่น(ตัวแปรที่1,ตัวแปรที่2, ...): # อาจจะไม่ตัวแปรก็ได้\n",
        "  print(\"Hello\")  # โปรแกรมให้ทำอะไรก็ได้\n",
        "# จบฟังก์ชั่น"
      ],
      "execution_count": 0,
      "outputs": []
    },
    {
      "metadata": {
        "id": "f7y-R2QkqPBp",
        "colab_type": "text"
      },
      "cell_type": "markdown",
      "source": [
        "# **Printing!!**"
      ]
    },
    {
      "metadata": {
        "id": "Ws4PJGp6YzpX",
        "colab_type": "code",
        "colab": {}
      },
      "cell_type": "code",
      "source": [
        "def print_hello():\n",
        "  print(\"Hello, function.\")"
      ],
      "execution_count": 0,
      "outputs": []
    },
    {
      "metadata": {
        "id": "V1qbFpypZ9PO",
        "colab_type": "code",
        "colab": {}
      },
      "cell_type": "code",
      "source": [
        "def print_hello():\n",
        "  print(\"Hello, function.\")\n",
        "  \n",
        "print_hello()"
      ],
      "execution_count": 0,
      "outputs": []
    },
    {
      "metadata": {
        "id": "YIBTpKdFanMF",
        "colab_type": "code",
        "colab": {}
      },
      "cell_type": "code",
      "source": [
        "def say_hello(name):\n",
        "  '''\n",
        "  say hello to user\n",
        "  '''\n",
        "  # say hello to user\n",
        "  print(\"Hello, \", name)\n",
        "\n",
        "  \n",
        "if __name__ == '__main__':  \n",
        "  myname = \"AIAT\"  \n",
        "  say_hello(myname)"
      ],
      "execution_count": 0,
      "outputs": []
    },
    {
      "metadata": {
        "id": "HOJNMg5yZ5Ls",
        "colab_type": "text"
      },
      "cell_type": "markdown",
      "source": [
        "# **Calculation!!**\n",
        "BMI (Body Mass Index) calculation\n",
        "\n",
        "**BMI = kg/m^2**\n",
        "\n",
        "\n",
        "![BMI Chart](http://www.bangpakokhospital.com/image_upload/ARTICLE-28)"
      ]
    },
    {
      "metadata": {
        "id": "x5uj3XcNbbBJ",
        "colab_type": "code",
        "colab": {}
      },
      "cell_type": "code",
      "source": [
        "def BMI_calculator(weight, height):\n",
        "  '''\n",
        "  Calculate the BMI value\n",
        "  weight: weight in kg.\n",
        "  height: height in m.\n",
        "  '''\n",
        "  bmi = weight / (height**2)\n",
        "  # return the calculated value\n",
        "  return bmi\n",
        "\n",
        "weight = input(\"Enter your weight (kg): \")\n",
        "height = input(\"Enter your height (m): \")\n",
        "\n",
        "# convert string to float\n",
        "weight = float(weight)\n",
        "height = float(height)\n",
        "\n",
        "bmi = BMI_calculator(weight, height)\n",
        "\n",
        "print(\"Your BMI is\", bmi)"
      ],
      "execution_count": 0,
      "outputs": []
    },
    {
      "metadata": {
        "id": "cYcopiCeSoql",
        "colab_type": "text"
      },
      "cell_type": "markdown",
      "source": [
        "# **Library Importing!!**\n",
        "Import non build-in library with its function then try to call them\n",
        "\n",
        "**Word tokenizer from NLTK!!**\n",
        "\n"
      ]
    },
    {
      "metadata": {
        "id": "0JmuvEceDPDF",
        "colab_type": "code",
        "colab": {}
      },
      "cell_type": "code",
      "source": [
        "import nltk\n",
        "\n",
        "nltk.download('punkt')\n",
        "nltk.word_tokenize(\"This is a book.\")\n"
      ],
      "execution_count": 0,
      "outputs": []
    }
  ]
}