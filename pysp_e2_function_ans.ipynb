{
  "nbformat": 4,
  "nbformat_minor": 0,
  "metadata": {
    "colab": {
      "name": "pysp_e2-function-ans.ipynb",
      "version": "0.3.2",
      "provenance": [],
      "include_colab_link": true
    },
    "kernelspec": {
      "name": "python3",
      "display_name": "Python 3"
    }
  },
  "cells": [
    {
      "cell_type": "markdown",
      "metadata": {
        "id": "view-in-github",
        "colab_type": "text"
      },
      "source": [
        "[View in Colaboratory](https://colab.research.google.com/github/tchayintr/Python101-scipy/blob/master/pysp_e2_function_ans.ipynb)"
      ]
    },
    {
      "metadata": {
        "id": "E27s793oYvcc",
        "colab_type": "text"
      },
      "cell_type": "markdown",
      "source": [
        "# **Python101 x Scipy: Exercise 2**\n",
        "***E2.1: Solving the problem with your own function***\n",
        "\n",
        "Convert a temparature in fahrenheit to celsius\n",
        "\n",
        "***T(celsius) = (T(fahrenheit) - 32) / 1.8  ; where T is temparature***\n",
        "\n",
        "\n",
        "Note:\n",
        "  \n",
        "  + รับอุณหภูมิในรูปแบบองศาฟาร์เรนไฮต์จากคียบอร์ด\n",
        "  + แปลงหน่วยองศาฟาร์เรนไฮต์เป็นหน่วยองศาเซลเซียส โดยการดัดแปลงฟังก์ชั่น ftoc()\n",
        "  + ทำการคืนค่าจาก ftoc() และแสดงผลบนหน้าจอ"
      ]
    },
    {
      "metadata": {
        "id": "Ws4PJGp6YzpX",
        "colab_type": "code",
        "colab": {
          "base_uri": "https://localhost:8080/",
          "height": 68
        },
        "outputId": "146ba22f-9748-41d7-a4c6-98526eeb9e3b"
      },
      "cell_type": "code",
      "source": [
        "# Begin your code here\n",
        "def ftoc(f):\n",
        "  # แปลงค่าองศาฟาร์เรนไฮต์เป็นองศาเซลเซียส\n",
        "  c = (f - 32) / 1.8\n",
        "  return c\n",
        "# End your code here\n",
        "  \n",
        "if __name__ == '__main__': \n",
        "  # Begin your code here\n",
        "  temparature_f = float(input(\"Enter a temparature (fahrenheit): \"))\n",
        "  temparature_c = ftoc(temparature_f)\n",
        "  print(\"{:0.2f}\".format(temparature_c))\n",
        "  print(\"%.2f\" % temparature_c)\n",
        "  # End your code here"
      ],
      "execution_count": 0,
      "outputs": [
        {
          "output_type": "stream",
          "text": [
            "Enter a temparature (fahrenheit): 90\n",
            "32.22\n",
            "32.22\n"
          ],
          "name": "stdout"
        }
      ]
    },
    {
      "metadata": {
        "id": "HOJNMg5yZ5Ls",
        "colab_type": "text"
      },
      "cell_type": "markdown",
      "source": [
        "***E2.2: It's your choice***\n",
        "\n",
        "Building your function to sovle your problem\n",
        "\n",
        "\n"
      ]
    },
    {
      "metadata": {
        "id": "xnxF1jIG0KMi",
        "colab_type": "code",
        "colab": {}
      },
      "cell_type": "code",
      "source": [
        ""
      ],
      "execution_count": 0,
      "outputs": []
    }
  ]
}