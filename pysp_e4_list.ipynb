{
  "nbformat": 4,
  "nbformat_minor": 0,
  "metadata": {
    "colab": {
      "name": "pysp_e4-list.ipynb",
      "version": "0.3.2",
      "provenance": [],
      "include_colab_link": true
    },
    "kernelspec": {
      "name": "python3",
      "display_name": "Python 3"
    }
  },
  "cells": [
    {
      "cell_type": "markdown",
      "metadata": {
        "id": "view-in-github",
        "colab_type": "text"
      },
      "source": [
        "[View in Colaboratory](https://colab.research.google.com/github/tchayintr/Python101-scipy/blob/master/pysp_e4_list.ipynb)"
      ]
    },
    {
      "metadata": {
        "id": "E27s793oYvcc",
        "colab_type": "text"
      },
      "cell_type": "markdown",
      "source": [
        "# **Python101 x Scipy: Exercise 4 - List**\n",
        "\n",
        "**E4.1: Average of scores calculation using conditions, loops, and list**\n",
        "\n",
        "หาค่าเฉลี่ยของตัวเลขในลิสต์\n",
        "\n",
        "Note:\n",
        "+ รับตัวเลขจากคีย์บอร์ด \n",
        "+ ทำการเพิ่มตัวเลขลงลิสต์ \n",
        "* รับตัวเลขไปเรื่อยๆจนกว่าจะพิมพ์ \"Q\" หรือ \"q\" เพื่อหยุด\n",
        "+ คิดค่าเฉลี่ยของลิสต์ตัวเลขด้วยฟังก์ชั่น avg_estimator()\n",
        "+ คืนค่าเฉลี่ย แล้วทำการแสดงผลบนหน้าจอ"
      ]
    },
    {
      "metadata": {
        "id": "zJWs_p-bbt7g",
        "colab_type": "code",
        "colab": {}
      },
      "cell_type": "code",
      "source": [
        "def avg_estimator(numbers):\n",
        "  # Begin your code here\n",
        "  avg_num = numbers\n",
        "  # End your code here\n",
        "  return avg_num\n",
        "\n",
        "if __name__ == '__main__':\n",
        "  numbers = []\n",
        "  \n",
        "  # Begin your code here\n",
        "  while(True):\n",
        "    break\n",
        "    \n",
        "    \n",
        "  # End your code here\n",
        "  avg = avg_estimator(numbers)\n",
        "  print(\"AVG:\", avg)"
      ],
      "execution_count": 0,
      "outputs": []
    },
    {
      "metadata": {
        "id": "qWP_hry03LOH",
        "colab_type": "text"
      },
      "cell_type": "markdown",
      "source": [
        "***E4.2: It's your choice (AGAIN!!)***\n",
        "\n",
        "Sovle your problem using list\n"
      ]
    },
    {
      "metadata": {
        "id": "E57C7CEQM4Nr",
        "colab_type": "code",
        "colab": {}
      },
      "cell_type": "code",
      "source": [
        ""
      ],
      "execution_count": 0,
      "outputs": []
    }
  ]
}