{
  "nbformat": 4,
  "nbformat_minor": 0,
  "metadata": {
    "colab": {
      "name": "pysp_t1-helloworld.ipynb",
      "version": "0.3.2",
      "provenance": [],
      "include_colab_link": true
    },
    "kernelspec": {
      "name": "python3",
      "display_name": "Python 3"
    }
  },
  "cells": [
    {
      "cell_type": "markdown",
      "metadata": {
        "id": "view-in-github",
        "colab_type": "text"
      },
      "source": [
        "[View in Colaboratory](https://colab.research.google.com/github/tchayintr/Python101-scipy/blob/master/pysp_t1_helloworld.ipynb)"
      ]
    },
    {
      "metadata": {
        "id": "E27s793oYvcc",
        "colab_type": "text"
      },
      "cell_type": "markdown",
      "source": [
        "# **Python101 x Scipy: Tutorial 1 - Welcome to Python World!**\n",
        "***Tutorial 1 (T1) ***\n",
        "\n",
        "Let's see what we can do with Python.\n"
      ]
    },
    {
      "metadata": {
        "id": "SrolpQ9kZ1aA",
        "colab_type": "text"
      },
      "cell_type": "markdown",
      "source": [
        "# **Let's PRINT!**"
      ]
    },
    {
      "metadata": {
        "id": "Ws4PJGp6YzpX",
        "colab_type": "code",
        "colab": {}
      },
      "cell_type": "code",
      "source": [
        "print(\"Hello, world.\")"
      ],
      "execution_count": 0,
      "outputs": []
    },
    {
      "metadata": {
        "id": "V1qbFpypZ9PO",
        "colab_type": "code",
        "colab": {}
      },
      "cell_type": "code",
      "source": [
        "print(\"Hello, %s.\" % (\"Python101\"))"
      ],
      "execution_count": 0,
      "outputs": []
    },
    {
      "metadata": {
        "id": "YIBTpKdFanMF",
        "colab_type": "code",
        "colab": {}
      },
      "cell_type": "code",
      "source": [
        "print(\"Hello, {}.\".format(\"AIAT\"))"
      ],
      "execution_count": 0,
      "outputs": []
    },
    {
      "metadata": {
        "id": "FIw1k4gpdkZC",
        "colab_type": "code",
        "colab": {}
      },
      "cell_type": "code",
      "source": [
        "print(\"Hello,\", \"Thailand.\")"
      ],
      "execution_count": 0,
      "outputs": []
    },
    {
      "metadata": {
        "id": "HOJNMg5yZ5Ls",
        "colab_type": "text"
      },
      "cell_type": "markdown",
      "source": [
        "# **Let's do the MATH!**\n",
        "\n",
        "Numbers and Math (operators)\n",
        "\n",
        "+ \\+ (plus)\n",
        "\n",
        "+ \\- (minus)\n",
        "\n",
        "+ / (slash)\n",
        "\n",
        "+ \\* (asterisk)\n",
        "\n",
        "+ % (percent)\n",
        "\n",
        "+ ** (exponential)\n",
        "\n",
        "+ < (less-than)\n",
        "\n",
        "+ \\> (greater-than)\n",
        "\n",
        "+ <= (less-than-equal)\n",
        "\n",
        "+ \\>= (greater-than-equal)\n"
      ]
    },
    {
      "metadata": {
        "id": "x5uj3XcNbbBJ",
        "colab_type": "code",
        "colab": {}
      },
      "cell_type": "code",
      "source": [
        "2**(100)"
      ],
      "execution_count": 0,
      "outputs": []
    },
    {
      "metadata": {
        "id": "_ZLzoTIjbpWS",
        "colab_type": "code",
        "colab": {}
      },
      "cell_type": "code",
      "source": [
        "import math\n",
        "print(math.sqrt(2))"
      ],
      "execution_count": 0,
      "outputs": []
    },
    {
      "metadata": {
        "id": "_vgs-5HudEx1",
        "colab_type": "text"
      },
      "cell_type": "markdown",
      "source": [
        "# **Let's get the INPUT!**"
      ]
    },
    {
      "metadata": {
        "id": "Wx8CVJepdHDw",
        "colab_type": "code",
        "colab": {}
      },
      "cell_type": "code",
      "source": [
        "user_input = input(\"Could you give me some input: \")\n",
        "print(\"The input is: \", user_input)"
      ],
      "execution_count": 0,
      "outputs": []
    },
    {
      "metadata": {
        "id": "e9dyqON_eicy",
        "colab_type": "text"
      },
      "cell_type": "markdown",
      "source": [
        "# **Let's COMMENT our code!**\n",
        "\n",
        "We normally use # (a sharp symbol) to comment a line of code."
      ]
    },
    {
      "metadata": {
        "id": "40M2hHJDeosW",
        "colab_type": "code",
        "colab": {}
      },
      "cell_type": "code",
      "source": [
        "# a comment line\n",
        "# print(\"You cannot see me. hehe\")\n",
        "print(\"You can see me.\")"
      ],
      "execution_count": 0,
      "outputs": []
    }
  ]
}