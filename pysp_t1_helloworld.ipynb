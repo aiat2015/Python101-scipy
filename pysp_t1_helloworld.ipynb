{
  "nbformat": 4,
  "nbformat_minor": 0,
  "metadata": {
    "colab": {
      "name": "pysp_t1-helloworld.ipynb",
      "version": "0.3.2",
      "provenance": [],
      "include_colab_link": true
    },
    "kernelspec": {
      "name": "python3",
      "display_name": "Python 3"
    }
  },
  "cells": [
    {
      "cell_type": "markdown",
      "metadata": {
        "id": "view-in-github",
        "colab_type": "text"
      },
      "source": [
        "[View in Colaboratory](https://colab.research.google.com/github/tchayintr/Python101-scipy/blob/master/pysp_t1_helloworld.ipynb)"
      ]
    },
    {
      "metadata": {
        "id": "E27s793oYvcc",
        "colab_type": "text"
      },
      "cell_type": "markdown",
      "source": [
        "# **Python101 x Numpy: Tutorial 1 - Welcome to Python World!**\n",
        "***Tutorial 1 (T1) ***\n",
        "\n",
        "Let's see what we can do with Python.\n"
      ]
    },
    {
      "metadata": {
        "id": "SrolpQ9kZ1aA",
        "colab_type": "text"
      },
      "cell_type": "markdown",
      "source": [
        "# **Let's PRINT!**"
      ]
    },
    {
      "metadata": {
        "id": "Ws4PJGp6YzpX",
        "colab_type": "code",
        "colab": {
          "base_uri": "https://localhost:8080/",
          "height": 34
        },
        "outputId": "f32184ec-3bf4-4759-ea90-3b64b5796ae0"
      },
      "cell_type": "code",
      "source": [
        "print(\"Hello, world.\")"
      ],
      "execution_count": 0,
      "outputs": [
        {
          "output_type": "execute_result",
          "data": {
            "text/plain": [
              "'Hello, world.'"
            ]
          },
          "metadata": {
            "tags": []
          },
          "execution_count": 1
        }
      ]
    },
    {
      "metadata": {
        "id": "V1qbFpypZ9PO",
        "colab_type": "code",
        "colab": {
          "base_uri": "https://localhost:8080/",
          "height": 34
        },
        "outputId": "bf646ee9-168c-4e53-b22a-55ca12ff1d24"
      },
      "cell_type": "code",
      "source": [
        "print(\"Hello, %s.\" % (\"Python101\"))"
      ],
      "execution_count": 0,
      "outputs": [
        {
          "output_type": "stream",
          "text": [
            "Hello, Python101.\n"
          ],
          "name": "stdout"
        }
      ]
    },
    {
      "metadata": {
        "id": "YIBTpKdFanMF",
        "colab_type": "code",
        "colab": {
          "base_uri": "https://localhost:8080/",
          "height": 34
        },
        "outputId": "ba102aae-7baa-4c77-e75b-9b57dee33462"
      },
      "cell_type": "code",
      "source": [
        "print(\"Hello, {}.\".format(\"AIAT\"))"
      ],
      "execution_count": 0,
      "outputs": [
        {
          "output_type": "stream",
          "text": [
            "Hello, AIAT.\n"
          ],
          "name": "stdout"
        }
      ]
    },
    {
      "metadata": {
        "id": "FIw1k4gpdkZC",
        "colab_type": "code",
        "colab": {
          "base_uri": "https://localhost:8080/",
          "height": 34
        },
        "outputId": "4c8a2150-36ea-4e9d-cb8b-4ee9a84aaf21"
      },
      "cell_type": "code",
      "source": [
        "print(\"Hello,\", \"Thailand.\")"
      ],
      "execution_count": 0,
      "outputs": [
        {
          "output_type": "stream",
          "text": [
            "Hello, Thailand\n"
          ],
          "name": "stdout"
        }
      ]
    },
    {
      "metadata": {
        "id": "HOJNMg5yZ5Ls",
        "colab_type": "text"
      },
      "cell_type": "markdown",
      "source": [
        "# **Let's do the MATH!**\n",
        "\n",
        "Numbers and Math (operators)\n",
        "\n",
        "+ \\+ (plus)\n",
        "\n",
        "+ \\- (minus)\n",
        "\n",
        "+ / (slash)\n",
        "\n",
        "+ \\* (asterisk)\n",
        "\n",
        "+ % (percent)\n",
        "\n",
        "+ ** (exponential)\n",
        "\n",
        "+ < (less-than)\n",
        "\n",
        "+ \\> (greater-than)\n",
        "\n",
        "+ <= (less-than-equal)\n",
        "\n",
        "+ \\>= (greater-than-equal)\n"
      ]
    },
    {
      "metadata": {
        "id": "x5uj3XcNbbBJ",
        "colab_type": "code",
        "colab": {
          "base_uri": "https://localhost:8080/",
          "height": 34
        },
        "outputId": "65a2e45c-ff5e-48f0-e2dc-f22b4110695f"
      },
      "cell_type": "code",
      "source": [
        "2**(100)"
      ],
      "execution_count": 0,
      "outputs": [
        {
          "output_type": "execute_result",
          "data": {
            "text/plain": [
              "1267650600228229401496703205376"
            ]
          },
          "metadata": {
            "tags": []
          },
          "execution_count": 2
        }
      ]
    },
    {
      "metadata": {
        "id": "_ZLzoTIjbpWS",
        "colab_type": "code",
        "colab": {
          "base_uri": "https://localhost:8080/",
          "height": 34
        },
        "outputId": "104aed00-5e48-457a-8f6d-7b325ae4cf5e"
      },
      "cell_type": "code",
      "source": [
        "import math\n",
        "print(math.sqrt(2))"
      ],
      "execution_count": 0,
      "outputs": [
        {
          "output_type": "stream",
          "text": [
            "1.4142135623730951\n"
          ],
          "name": "stdout"
        }
      ]
    },
    {
      "metadata": {
        "id": "_vgs-5HudEx1",
        "colab_type": "text"
      },
      "cell_type": "markdown",
      "source": [
        "# **Let's get the INPUT!**"
      ]
    },
    {
      "metadata": {
        "id": "Wx8CVJepdHDw",
        "colab_type": "code",
        "colab": {
          "base_uri": "https://localhost:8080/",
          "height": 198
        },
        "outputId": "6592a0fe-acc1-49dd-f8ed-49c8e398fc9f"
      },
      "cell_type": "code",
      "source": [
        "user_input = input(\"Could you give me some input: \")\n",
        "print(\"The input is: \", user_input)"
      ],
      "execution_count": 0,
      "outputs": [
        {
          "output_type": "stream",
          "text": [
            "Could you give me some input: p\n"
          ],
          "name": "stdout"
        },
        {
          "output_type": "error",
          "ename": "NameError",
          "evalue": "ignored",
          "traceback": [
            "\u001b[0;31m---------------------------------------------------------------------------\u001b[0m",
            "\u001b[0;31mNameError\u001b[0m                                 Traceback (most recent call last)",
            "\u001b[0;32m<ipython-input-4-74b070b874fb>\u001b[0m in \u001b[0;36m<module>\u001b[0;34m()\u001b[0m\n\u001b[1;32m      1\u001b[0m \u001b[0muser_input\u001b[0m \u001b[0;34m=\u001b[0m \u001b[0minput\u001b[0m\u001b[0;34m(\u001b[0m\u001b[0;34m\"Could you give me some input: \"\u001b[0m\u001b[0;34m)\u001b[0m\u001b[0;34m\u001b[0m\u001b[0m\n\u001b[0;32m----> 2\u001b[0;31m \u001b[0mprint\u001b[0m\u001b[0;34m(\u001b[0m\u001b[0;34m\"The input is: \"\u001b[0m\u001b[0;34m,\u001b[0m \u001b[0mUser_input\u001b[0m\u001b[0;34m)\u001b[0m\u001b[0;34m\u001b[0m\u001b[0m\n\u001b[0m",
            "\u001b[0;31mNameError\u001b[0m: name 'User_input' is not defined"
          ]
        }
      ]
    },
    {
      "metadata": {
        "id": "e9dyqON_eicy",
        "colab_type": "text"
      },
      "cell_type": "markdown",
      "source": [
        "# **Let's COMMENT our code!**\n",
        "\n",
        "We normally use # (a sharp symbol) to comment a line of code."
      ]
    },
    {
      "metadata": {
        "id": "40M2hHJDeosW",
        "colab_type": "code",
        "colab": {
          "base_uri": "https://localhost:8080/",
          "height": 34
        },
        "outputId": "f6580b24-429c-4ee5-f5a1-3b57d45380d3"
      },
      "cell_type": "code",
      "source": [
        "# a comment line\n",
        "# print(\"You cannot see me. hehe\")\n",
        "print(\"You can see me.\")"
      ],
      "execution_count": 0,
      "outputs": [
        {
          "output_type": "stream",
          "text": [
            "You can see me.\n"
          ],
          "name": "stdout"
        }
      ]
    }
  ]
}