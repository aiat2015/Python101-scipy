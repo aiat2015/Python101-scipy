{
  "nbformat": 4,
  "nbformat_minor": 0,
  "metadata": {
    "colab": {
      "name": "pysp_outline.ipynb",
      "version": "0.3.2",
      "provenance": [],
      "include_colab_link": true
    },
    "kernelspec": {
      "name": "python3",
      "display_name": "Python 3"
    }
  },
  "cells": [
    {
      "cell_type": "markdown",
      "metadata": {
        "id": "view-in-github",
        "colab_type": "text"
      },
      "source": [
        "[View in Colaboratory](https://colab.research.google.com/github/tchayintr/Python101-scipy/blob/master/pysp_outline.ipynb)"
      ]
    },
    {
      "metadata": {
        "id": "E27s793oYvcc",
        "colab_type": "text"
      },
      "cell_type": "markdown",
      "source": [
        "# **Python101 x Scipy: Outline**\n",
        "\n",
        "**Morning session**\n",
        "* Introduction to Google Colaboratory\n",
        "* Introduction to Python (Basic)\n",
        "* Variables and operations\n",
        "* Functions \n",
        "\n",
        "**Afternoon session**\n",
        "\n",
        "* Condition and loop\n",
        "* List and Dictionary\n",
        "* Scipy\n",
        " * Numpy\n",
        " * Matplotlib\n",
        " * pandas\n",
        " \n",
        "\n",
        "---\n",
        "\n",
        "\n",
        "Materials: http://bit.ly/2xPafhA\n",
        "\n"
      ]
    }
  ]
}