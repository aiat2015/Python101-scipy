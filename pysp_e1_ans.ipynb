{
  "nbformat": 4,
  "nbformat_minor": 0,
  "metadata": {
    "colab": {
      "name": "pysp_e1-ans.ipynb",
      "version": "0.3.2",
      "provenance": [],
      "include_colab_link": true
    },
    "kernelspec": {
      "name": "python3",
      "display_name": "Python 3"
    }
  },
  "cells": [
    {
      "cell_type": "markdown",
      "metadata": {
        "id": "view-in-github",
        "colab_type": "text"
      },
      "source": [
        "[View in Colaboratory](https://colab.research.google.com/github/tchayintr/Python101-scipy/blob/master/pysp_e1_ans.ipynb)"
      ]
    },
    {
      "metadata": {
        "id": "wq5jqj1sepVA",
        "colab_type": "text"
      },
      "cell_type": "markdown",
      "source": [
        "# **Python101 x Scipy: Exercise 1 (Answered)**\n",
        "***E1.1: prompting yourself***\n",
        "\n",
        "Asking yourself as listed below then printing out:\n",
        "\n",
        "+ First name \n",
        "+ Last name\n",
        "+ Hobbies\n",
        "+ Why Python?\n"
      ]
    },
    {
      "metadata": {
        "id": "KqUMBZ5ceB_S",
        "colab_type": "code",
        "colab": {}
      },
      "cell_type": "code",
      "source": [
        "firstname = input(\"My firstname: \")\n",
        "# Begin your code here\n",
        "lastname = input(\"My lastname: \")\n",
        "hobby = input(\"My hobby: \")\n",
        "why_python = input(\"why_python: \")\n",
        "\n",
        "# End your code here\n",
        "\n",
        "print(\"Firstname:\", firstname)\n",
        "print(\"Lastname:\", lastname)\n",
        "print(\"hobby:\", hobby)\n",
        "print(\"Why you want to learn Python:\", why_python)"
      ],
      "execution_count": 0,
      "outputs": []
    },
    {
      "metadata": {
        "id": "Ew927OPlf7OU",
        "colab_type": "text"
      },
      "cell_type": "markdown",
      "source": [
        "***E1.2: Solving the problem with Pythagorean Theorem***\n",
        "\n",
        "\n",
        "***c^2 = a^2 + b^2***\n",
        "\n",
        "\n",
        "Let a = 4 and b = 6\n",
        "\n",
        "Find c\n",
        "\n",
        "![alt text](https://www.mathplanet.com/Oldsite/media/43198/triangle10.png)\n"
      ]
    },
    {
      "metadata": {
        "id": "H6Kbp9tYlFGc",
        "colab_type": "code",
        "colab": {}
      },
      "cell_type": "code",
      "source": [
        "# รับค่า a จากคีย์บอร์ด\n",
        "a = input(\"Enter a: \")\n",
        "# รับค่า b จากคีย์บอร์ด\n",
        "b = input(\"Enter b: \")\n",
        "\n",
        "# แปลงค่า a และ b จากตัวอักษร (String) เป็นตัวเลข (Integer)\n",
        "a = int(a)\n",
        "b = int(b)\n",
        "\n",
        "print(a)\n",
        "print(b)\n",
        "\n",
        "# begin your code here\n",
        "\n",
        "# คำนวนค่าของ c^2\n",
        "c = (a**2) + (b**2)\n",
        "# ถอดรากที่สองของ c\n",
        "c = c**(1/2)\n",
        "\n",
        "# end your code here\n",
        "print(\"c: {:0.6f}, a: {:0.4f}, b: {:0.4f}\".format(c, a, b))"
      ],
      "execution_count": 0,
      "outputs": []
    }
  ]
}