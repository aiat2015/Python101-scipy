{
  "nbformat": 4,
  "nbformat_minor": 0,
  "metadata": {
    "colab": {
      "name": "pysp_t4-list.ipynb",
      "version": "0.3.2",
      "provenance": [],
      "collapsed_sections": [],
      "include_colab_link": true
    },
    "kernelspec": {
      "name": "python3",
      "display_name": "Python 3"
    }
  },
  "cells": [
    {
      "cell_type": "markdown",
      "metadata": {
        "id": "view-in-github",
        "colab_type": "text"
      },
      "source": [
        "[View in Colaboratory](https://colab.research.google.com/github/tchayintr/Python101-scipy/blob/master/pysp_t4_list.ipynb)"
      ]
    },
    {
      "metadata": {
        "id": "E27s793oYvcc",
        "colab_type": "text"
      },
      "cell_type": "markdown",
      "source": [
        "# **Python101 x Scipy: Tutorial 4 - List**\n",
        "***Tutorial 4 (T4)***\n",
        "\n"
      ]
    },
    {
      "metadata": {
        "id": "f7y-R2QkqPBp",
        "colab_type": "text"
      },
      "cell_type": "markdown",
      "source": [
        "# **List**\n",
        "\n",
        "**List of months**\n"
      ]
    },
    {
      "metadata": {
        "id": "zJWs_p-bbt7g",
        "colab_type": "code",
        "colab": {}
      },
      "cell_type": "code",
      "source": [
        "months = [\"Janurary\", \"February\", \"March\", \"April\", \"May\", \"June\", \"July\", \"August\", \"September\", \"October\", \"November\", \"December\"]\n",
        "\n",
        "jan = months[0]\n",
        "feb = months[1]\n",
        "\n",
        "print('ตัวแปร jan:', jan)\n",
        "print('ตัวแปร feb:', feb)\n",
        "\n",
        "firstmonth = months[0]\n",
        "print('เดือนแรก (firstmonth):', firstmonth)\n",
        "lastmonth = months[-1]\n",
        "print('เดือนสุดท้าย (lastmonth):', lastmonth)\n",
        "\n",
        "# list[start:stop]\n",
        "ffour_months = months[0:4]\n",
        "print('สี่เดือนแรก:', ffour_months)"
      ],
      "execution_count": 0,
      "outputs": []
    },
    {
      "metadata": {
        "id": "4XnMnxXybhgR",
        "colab_type": "text"
      },
      "cell_type": "markdown",
      "source": [
        "**Length of list**"
      ]
    },
    {
      "metadata": {
        "id": "Ws4PJGp6YzpX",
        "colab_type": "code",
        "colab": {}
      },
      "cell_type": "code",
      "source": [
        "months = [\"Janurary\", \"February\", \"March\", \"April\", \"May\", \"June\", \"July\", \"August\", \"September\", \"October\", \"November\", \"December\"]\n",
        "\n",
        "months_length = len(months)\n",
        "print(\"Length of months variable:\", months_length)\n",
        "\n",
        "print(months[months_length-1])"
      ],
      "execution_count": 0,
      "outputs": []
    },
    {
      "metadata": {
        "id": "wHyW0HeLV8r6",
        "colab_type": "text"
      },
      "cell_type": "markdown",
      "source": [
        "**List Sorting**"
      ]
    },
    {
      "metadata": {
        "id": "V1qbFpypZ9PO",
        "colab_type": "code",
        "colab": {}
      },
      "cell_type": "code",
      "source": [
        "months = [\"Janurary\", \"February\", \"March\", \"April\", \"May\", \"June\", \"July\", \"August\", \"September\", \"October\", \"November\", \"December\"]\n",
        "\n",
        "sorted_months_asc = sorted(months)\n",
        "print(\"Sorted months (Ascending):\", sorted_months_asc)\n",
        "\n",
        "sorted_months_dsc = sorted(months, reverse=True)\n",
        "print(\"Sorted months (Descending):\", sorted_months_dsc)\n",
        "\n",
        "\n",
        "numbers = [5, 4, 0, 1, 7, 5]\n",
        "sorted_numbers_asc = sorted(numbers)\n",
        "print(\"Sorted numbers (Ascending):\", sorted_numbers_asc)\n",
        "\n",
        "sorted_numbers_dsc = sorted(numbers, reverse=True)\n",
        "print(\"Sorted numbers (Descending):\", sorted_numbers_dsc)\n",
        "\n",
        "\n",
        "\n"
      ],
      "execution_count": 0,
      "outputs": []
    },
    {
      "metadata": {
        "id": "UTpAU2jbAfLl",
        "colab_type": "text"
      },
      "cell_type": "markdown",
      "source": [
        "**List Appeding and Removing**"
      ]
    },
    {
      "metadata": {
        "id": "S-t7_oWTAe7l",
        "colab_type": "code",
        "colab": {}
      },
      "cell_type": "code",
      "source": [
        "lst = [5, 4, 0, 1, 7, 5]\n",
        "lst2 = [5, 4, 0, 1, 7, 5]\n",
        "\n",
        "lst.append(-1)\n",
        "print(lst)\n",
        "\n",
        "lst.append(\"str\")\n",
        "print(lst)\n",
        "\n",
        "lst.remove(\"str\")\n",
        "print(lst)\n",
        "\n",
        "lst.remove(lst[0])\n",
        "print(lst)\n",
        "\n",
        "# lst.append(lst2)\n",
        "# print(lst)\n",
        "\n",
        "\n",
        "lst.extend(lst2)\n",
        "print(lst)"
      ],
      "execution_count": 0,
      "outputs": []
    },
    {
      "metadata": {
        "id": "shcp85YoEGgq",
        "colab_type": "text"
      },
      "cell_type": "markdown",
      "source": [
        "**List Calculation**"
      ]
    },
    {
      "metadata": {
        "id": "GKy0cRuFEGTl",
        "colab_type": "code",
        "colab": {}
      },
      "cell_type": "code",
      "source": [
        "lst = [5, 4, 0, 1, 7, 5]\n",
        "\n",
        "sum_lst = sum(lst)\n",
        "print(\"Summation of lst:\", sum_lst)\n",
        "\n",
        "max_lst = max(lst)\n",
        "print(\"Maximum element in lst:\", max_lst)\n",
        "\n",
        "min_lst = min(lst)\n",
        "print(\"Minimum element in lst:\", min_lst)\n",
        "\n",
        "avg_lst = sum(lst)/len(lst)\n",
        "print(\"Average of lst:\", avg_lst)"
      ],
      "execution_count": 0,
      "outputs": []
    },
    {
      "metadata": {
        "id": "HOJNMg5yZ5Ls",
        "colab_type": "text"
      },
      "cell_type": "markdown",
      "source": [
        "# **Looping through list!!**\n",
        "\n",
        "Let's make a list of students' name"
      ]
    },
    {
      "metadata": {
        "id": "x5uj3XcNbbBJ",
        "colab_type": "code",
        "colab": {}
      },
      "cell_type": "code",
      "source": [
        "def get_listlength(lst):\n",
        "  return len(lst)\n",
        "\n",
        "if __name__ == '__main__':\n",
        "  students = []\n",
        "\n",
        "  # วนรับรายชื่อนักเรียนจากคีย์ยอร์ดจนกว่าจะพิมพ์ \"Q\" หรือ \"q\"\n",
        "  while(True):\n",
        "    user_input = input(\"Enter a student name: \")\n",
        "\n",
        "    if user_input.lower() == 'q':\n",
        "      break\n",
        "\n",
        "    students.append(user_input)\n",
        "\n",
        "  # วนลูปเพิ่อแสดงรายชื่อนักเรียนทั้งหมดจาก list ออกทางหน้าจอ\n",
        "  print(\"List of students:\")\n",
        "  for student in students:\n",
        "    print(student)\n",
        "\n",
        "  print(\"Number of students:\", get_listlength(students))\n",
        "  "
      ],
      "execution_count": 0,
      "outputs": []
    }
  ]
}